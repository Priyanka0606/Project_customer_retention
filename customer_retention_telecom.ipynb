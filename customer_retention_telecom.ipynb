{
 "cells": [
  {
   "cell_type": "markdown",
   "id": "b4e884bb",
   "metadata": {},
   "source": [
    "### Problem Statement"
   ]
  },
  {
   "cell_type": "markdown",
   "id": "026eb338",
   "metadata": {},
   "source": [
    "Develop a predictive framework for enabling proactive retension strategy for a Telecom Company."
   ]
  },
  {
   "cell_type": "markdown",
   "id": "8d2d21b4",
   "metadata": {},
   "source": [
    "### Importing Required Libraries"
   ]
  },
  {
   "cell_type": "code",
   "execution_count": null,
   "id": "3a2158c0",
   "metadata": {},
   "outputs": [],
   "source": [
    "import pandas as pd\n",
    "import numpy as np\n",
    "import matplotlib.pyplot as plt\n",
    "import seaborn as sns"
   ]
  },
  {
   "cell_type": "markdown",
   "id": "b1809472",
   "metadata": {},
   "source": [
    "### Importing the Data for ML project"
   ]
  },
  {
   "cell_type": "code",
   "execution_count": null,
   "id": "396ed0fe",
   "metadata": {},
   "outputs": [],
   "source": [
    "df = pd.read_csv('/Users/priyankac/Downloads/WA_Fn-UseC_-Telco-Customer-Churn.csv')"
   ]
  },
  {
   "cell_type": "code",
   "execution_count": null,
   "id": "1d86d180",
   "metadata": {},
   "outputs": [],
   "source": [
    "# Checking the number of rows and colums in dataset\n",
    "df.shape"
   ]
  },
  {
   "cell_type": "code",
   "execution_count": null,
   "id": "9876f1bc",
   "metadata": {},
   "outputs": [],
   "source": [
    "# Checking the first 5 records\n",
    "df.head()"
   ]
  },
  {
   "cell_type": "code",
   "execution_count": null,
   "id": "c84acb93",
   "metadata": {},
   "outputs": [],
   "source": [
    "# Checking different datatypes in the given dataset\n",
    "df.dtypes"
   ]
  },
  {
   "cell_type": "markdown",
   "id": "362bbbda",
   "metadata": {},
   "source": [
    "### Setting Display options to ensure feature name visiblity"
   ]
  },
  {
   "cell_type": "code",
   "execution_count": null,
   "id": "8b02a759",
   "metadata": {},
   "outputs": [],
   "source": [
    "pd.set_option('display.max_columns', None)"
   ]
  },
  {
   "cell_type": "markdown",
   "id": "186bc7c6",
   "metadata": {},
   "source": [
    "### Warning Suppression"
   ]
  },
  {
   "cell_type": "code",
   "execution_count": null,
   "id": "59217367",
   "metadata": {},
   "outputs": [],
   "source": [
    "import warnings\n",
    "warnings.filterwarnings('ignore')"
   ]
  },
  {
   "cell_type": "markdown",
   "id": "d25e07e3",
   "metadata": {},
   "source": [
    "### How many rows have missing ID?"
   ]
  },
  {
   "cell_type": "code",
   "execution_count": null,
   "id": "413f040b",
   "metadata": {},
   "outputs": [],
   "source": [
    "df['customerID'].isnull().sum()"
   ]
  },
  {
   "cell_type": "markdown",
   "id": "fb19a0d7",
   "metadata": {},
   "source": [
    "### Drop ID feature from the dataset"
   ]
  },
  {
   "cell_type": "code",
   "execution_count": null,
   "id": "bb5591da",
   "metadata": {},
   "outputs": [],
   "source": [
    "df = df.drop(['customerID'], axis = 1)"
   ]
  },
  {
   "cell_type": "code",
   "execution_count": null,
   "id": "efef7e24",
   "metadata": {},
   "outputs": [],
   "source": [
    "df.dtypes"
   ]
  },
  {
   "cell_type": "markdown",
   "id": "659d4a2f",
   "metadata": {},
   "source": [
    "### Label the Churn feature to 1/0"
   ]
  },
  {
   "cell_type": "code",
   "execution_count": null,
   "id": "4d8d7a72",
   "metadata": {},
   "outputs": [],
   "source": [
    "# Getting count of 'yes' and 'no' in Churn\n",
    "df['Churn'].value_counts()"
   ]
  },
  {
   "cell_type": "code",
   "execution_count": null,
   "id": "4b37dc44",
   "metadata": {},
   "outputs": [],
   "source": [
    "df['target'] = np.where(df['Churn'] == 'Yes',1,0 )"
   ]
  },
  {
   "cell_type": "markdown",
   "id": "fc3ec5d9",
   "metadata": {},
   "source": [
    "### Drop the Churn feature to retain only target"
   ]
  },
  {
   "cell_type": "code",
   "execution_count": null,
   "id": "85fc99b0",
   "metadata": {},
   "outputs": [],
   "source": [
    "df = df.drop(['Churn'], axis = 1)"
   ]
  },
  {
   "cell_type": "code",
   "execution_count": null,
   "id": "15cc113f",
   "metadata": {},
   "outputs": [],
   "source": [
    "df.dtypes"
   ]
  },
  {
   "cell_type": "markdown",
   "id": "a6a78d86",
   "metadata": {},
   "source": [
    "### Defining Target and Independent features"
   ]
  },
  {
   "cell_type": "code",
   "execution_count": null,
   "id": "933230af",
   "metadata": {},
   "outputs": [],
   "source": [
    "Y = df[['target']]"
   ]
  },
  {
   "cell_type": "code",
   "execution_count": null,
   "id": "a7830543",
   "metadata": {},
   "outputs": [],
   "source": [
    "X = df.drop(['target'], axis = 1)"
   ]
  },
  {
   "cell_type": "markdown",
   "id": "9d9401ec",
   "metadata": {},
   "source": [
    "### Get the Churn rate"
   ]
  },
  {
   "cell_type": "code",
   "execution_count": null,
   "id": "c7a01549",
   "metadata": {},
   "outputs": [],
   "source": [
    "Y.mean()"
   ]
  },
  {
   "cell_type": "markdown",
   "id": "3eea4815",
   "metadata": {},
   "source": [
    "### Split features into Numerical and Categorical"
   ]
  },
  {
   "cell_type": "code",
   "execution_count": null,
   "id": "a3bd040e",
   "metadata": {},
   "outputs": [],
   "source": [
    "num = X.select_dtypes(include = 'number')\n",
    "char = X.select_dtypes(include = 'object')"
   ]
  },
  {
   "cell_type": "code",
   "execution_count": null,
   "id": "b946a21f",
   "metadata": {},
   "outputs": [],
   "source": [
    "num.tail()"
   ]
  },
  {
   "cell_type": "code",
   "execution_count": null,
   "id": "1b08f398",
   "metadata": {},
   "outputs": [],
   "source": [
    "num.describe()"
   ]
  },
  {
   "cell_type": "code",
   "execution_count": null,
   "id": "3e36c333",
   "metadata": {},
   "outputs": [],
   "source": [
    "# Check whether SeniorCitizen feature is an indicator\n",
    "num.SeniorCitizen.value_counts()"
   ]
  },
  {
   "cell_type": "code",
   "execution_count": null,
   "id": "c1013c0c",
   "metadata": {},
   "outputs": [],
   "source": [
    "char.head()"
   ]
  },
  {
   "cell_type": "markdown",
   "id": "59929778",
   "metadata": {},
   "source": [
    "### Dropping the indicator feature from num to build a separate DF"
   ]
  },
  {
   "cell_type": "code",
   "execution_count": null,
   "id": "7711cb34",
   "metadata": {},
   "outputs": [],
   "source": [
    "ind = num[['SeniorCitizen']]\n",
    "num = num.drop(['SeniorCitizen'], axis = 1)"
   ]
  },
  {
   "cell_type": "code",
   "execution_count": null,
   "id": "922facb2",
   "metadata": {},
   "outputs": [],
   "source": [
    "num.dtypes"
   ]
  },
  {
   "cell_type": "code",
   "execution_count": null,
   "id": "956d6033",
   "metadata": {},
   "outputs": [],
   "source": [
    "ind.dtypes"
   ]
  },
  {
   "cell_type": "code",
   "execution_count": null,
   "id": "d81e0175",
   "metadata": {},
   "outputs": [],
   "source": [
    "char.dtypes"
   ]
  },
  {
   "cell_type": "markdown",
   "id": "771bf004",
   "metadata": {},
   "source": [
    "### Outlier Analysis of Numerical Features"
   ]
  },
  {
   "cell_type": "code",
   "execution_count": null,
   "id": "a089e208",
   "metadata": {},
   "outputs": [],
   "source": [
    "num.describe(percentiles = [0.01,0.05,0.10,0.25,0.50,0.75,0.85,0.9,0.99])"
   ]
  },
  {
   "cell_type": "markdown",
   "id": "89a9a1bb",
   "metadata": {},
   "source": [
    "### Capping and Flooring of outliers"
   ]
  },
  {
   "cell_type": "code",
   "execution_count": null,
   "id": "975182a5",
   "metadata": {},
   "outputs": [],
   "source": [
    "def outlier_cap(x):\n",
    "    x = x.clip(lower = x.quantile(0.01))\n",
    "    x = x.clip(upper = x.quantile(0.99))\n",
    "    return(x)"
   ]
  },
  {
   "cell_type": "code",
   "execution_count": null,
   "id": "2bebee85",
   "metadata": {},
   "outputs": [],
   "source": [
    "num = num.apply(lambda x : outlier_cap(x))"
   ]
  },
  {
   "cell_type": "code",
   "execution_count": null,
   "id": "d2968123",
   "metadata": {},
   "outputs": [],
   "source": [
    "num.describe(percentiles = [0.01,0.05,0.10,0.25,0.50,0.75,0.85,0.9,0.99])"
   ]
  },
  {
   "cell_type": "markdown",
   "id": "55ca0072",
   "metadata": {},
   "source": [
    "### Missing Values Analysis"
   ]
  },
  {
   "cell_type": "code",
   "execution_count": null,
   "id": "bef714c2",
   "metadata": {},
   "outputs": [],
   "source": [
    "num.isnull().sum()"
   ]
  },
  {
   "cell_type": "code",
   "execution_count": null,
   "id": "f146aa65",
   "metadata": {},
   "outputs": [],
   "source": [
    "# Since the data does not contain any missing values Imputation is not required\n",
    "# X = X.loc[:, X.isnull().mean <= .25]"
   ]
  },
  {
   "cell_type": "markdown",
   "id": "89ecce30",
   "metadata": {},
   "source": [
    "## Feature Selection - Numerical Features"
   ]
  },
  {
   "cell_type": "markdown",
   "id": "ea0c9e7c",
   "metadata": {},
   "source": [
    "### Part 1 : Remove Features with 0 Variance"
   ]
  },
  {
   "cell_type": "code",
   "execution_count": null,
   "id": "2dbc77df",
   "metadata": {},
   "outputs": [],
   "source": [
    "from sklearn.feature_selection import VarianceThreshold\n",
    "\n",
    "varselector = VarianceThreshold(threshold = 0)\n",
    "varselector.fit_transform(num)\n",
    "\n",
    "# Get columns to keep and create new dataframe with those only\n",
    "cols = varselector.get_support(indices = True)\n",
    "num_1 = num.iloc[: , cols]"
   ]
  },
  {
   "cell_type": "code",
   "execution_count": null,
   "id": "eb73473e",
   "metadata": {},
   "outputs": [],
   "source": [
    "num_1.iloc[0]"
   ]
  },
  {
   "cell_type": "markdown",
   "id": "fc1b7dac",
   "metadata": {},
   "source": [
    "### Part 2 : Bi Variate Analysis (Feature Discretization)"
   ]
  },
  {
   "cell_type": "code",
   "execution_count": null,
   "id": "35e9ad25",
   "metadata": {},
   "outputs": [],
   "source": [
    "from sklearn.preprocessing import KBinsDiscretizer\n",
    "\n",
    "discrete = KBinsDiscretizer(n_bins = 10, encode = 'ordinal', strategy = 'quantile')\n",
    "\n",
    "# type(discrete.fit_transform(num_1))\n",
    "\n",
    "num_binned = pd.DataFrame(discrete.fit_transform(num_1), index = num_1.index,\n",
    "                          columns = num_1.columns).add_suffix('_Rank')\n",
    "\n",
    "num_binned.head()"
   ]
  },
  {
   "cell_type": "code",
   "execution_count": null,
   "id": "0f672414",
   "metadata": {},
   "outputs": [],
   "source": [
    "# Check if features show  a slope at all\n",
    "# If they do, then do you see some deciles below the population average and some higher than the population average?\n",
    "# If that is the case then the slope will be strong\n",
    "\n",
    "# Conclusion: A strong slope is indicative of the features' ability to discriminate the event from non event\n",
    "#              making it a good preductor\n",
    "\n",
    "X_bin_combined = pd.concat([Y, num_binned], axis = 1, join = 'inner')\n",
    "\n",
    "from numpy import mean\n",
    "for col in (num_binned.columns):\n",
    "    plt.figure()\n",
    "    sns.lineplot(x=col, y=X_bin_combined['target'].mean(), data=X_bin_combined, color='red')\n",
    "    sns.barplot(x=col, y='target', data=X_bin_combined, estimator=mean)\n",
    "plt.show()    \n",
    "    "
   ]
  },
  {
   "cell_type": "code",
   "execution_count": null,
   "id": "dcf97935",
   "metadata": {},
   "outputs": [],
   "source": [
    "# All features from num_1 will get selected due to good discrimination power by all of them\n",
    "select_features_df_num = num_1"
   ]
  },
  {
   "cell_type": "code",
   "execution_count": null,
   "id": "2dc69ba7",
   "metadata": {},
   "outputs": [],
   "source": [
    "select_features_df_num.shape"
   ]
  },
  {
   "cell_type": "markdown",
   "id": "5a5930c7",
   "metadata": {},
   "source": [
    "## Feature Selection - Categorical Features\n"
   ]
  },
  {
   "cell_type": "markdown",
   "id": "d14c90b2",
   "metadata": {},
   "source": [
    "### Part 1 : Bi Variate Analysis"
   ]
  },
  {
   "cell_type": "code",
   "execution_count": null,
   "id": "12adc42c",
   "metadata": {},
   "outputs": [],
   "source": [
    "X_char_merged = pd.concat([Y, char], axis = 1, join = 'inner')\n",
    "\n",
    "from numpy import mean\n",
    "\n",
    "for col in (char.columns):\n",
    "    plt.figure()\n",
    "    sns.lineplot(x=col, y=X_char_merged['target'].mean(), data=X_char_merged, color = 'red')\n",
    "    sns.barplot(x=col, y='target', data=X_char_merged, estimator = mean)\n",
    "plt.show()    "
   ]
  },
  {
   "cell_type": "code",
   "execution_count": null,
   "id": "7bcb8577",
   "metadata": {},
   "outputs": [],
   "source": [
    "# Drop gender, PhoneService and MultipleLines feature\n",
    "char = char.drop(['gender', 'PhoneService', 'MultipleLines'], axis = 1)"
   ]
  },
  {
   "cell_type": "code",
   "execution_count": null,
   "id": "fb13a378",
   "metadata": {},
   "outputs": [],
   "source": [
    "# Create dummy features with n-1 levels\n",
    "X_char_dum = pd.get_dummies(char, drop_first = True)\n",
    "X_char_dum.shape"
   ]
  },
  {
   "cell_type": "markdown",
   "id": "9a07e372",
   "metadata": {},
   "source": [
    "### Part 2 : Select K Best"
   ]
  },
  {
   "cell_type": "code",
   "execution_count": null,
   "id": "4737cee6",
   "metadata": {},
   "outputs": [],
   "source": [
    "# Select K Best for Categorical features\n",
    "\n",
    "from sklearn.feature_selection import SelectKBest, chi2\n",
    "selector = SelectKBest(chi2, k = 20)\n",
    "selector.fit_transform(X_char_dum, Y)\n",
    "\n",
    "# Select columns to keep and create new dataframe with those only\n",
    "cols = selector.get_support(indices = True)\n",
    "select_features_df_char = X_char_dum.iloc[: , cols]"
   ]
  },
  {
   "cell_type": "code",
   "execution_count": null,
   "id": "8303b14e",
   "metadata": {},
   "outputs": [],
   "source": [
    "select_features_df_char.shape"
   ]
  },
  {
   "cell_type": "markdown",
   "id": "acf0be36",
   "metadata": {},
   "source": [
    "### Feature Selection - Numerical Indicator Feature"
   ]
  },
  {
   "cell_type": "code",
   "execution_count": null,
   "id": "84fac794",
   "metadata": {},
   "outputs": [],
   "source": [
    "# Feature selection for SeniorCitizen feature\n",
    "X_ind_merged = pd.concat([Y, ind], axis = 1, join = 'inner')\n",
    "\n",
    "from numpy import mean\n",
    "for col in (ind.columns):\n",
    "    plt.figure()\n",
    "    sns.barplot(x = col, y ='target', data = X_ind_merged, estimator = mean)\n",
    "plt.show()    "
   ]
  },
  {
   "cell_type": "code",
   "execution_count": null,
   "id": "73cfe432",
   "metadata": {},
   "outputs": [],
   "source": [
    "select_features_df_ind = ind"
   ]
  },
  {
   "cell_type": "markdown",
   "id": "4eded3b5",
   "metadata": {},
   "source": [
    "### Creating the Master Feature Set for Model Development"
   ]
  },
  {
   "cell_type": "code",
   "execution_count": null,
   "id": "dd75167e",
   "metadata": {},
   "outputs": [],
   "source": [
    "X_all = pd.concat([select_features_df_char, select_features_df_num, select_features_df_ind], axis = 1, join = 'inner')"
   ]
  },
  {
   "cell_type": "code",
   "execution_count": null,
   "id": "4b134132",
   "metadata": {},
   "outputs": [],
   "source": [
    "X_all.shape"
   ]
  },
  {
   "cell_type": "markdown",
   "id": "aca04078",
   "metadata": {},
   "source": [
    "## Train Test Split"
   ]
  },
  {
   "cell_type": "code",
   "execution_count": null,
   "id": "f1b789e6",
   "metadata": {},
   "outputs": [],
   "source": [
    "from sklearn.model_selection import train_test_split\n",
    "\n",
    "X_train, X_test, y_train, y_test = train_test_split(X_all, Y, test_size = 0.3, random_state = 99)"
   ]
  },
  {
   "cell_type": "code",
   "execution_count": null,
   "id": "943da8c0",
   "metadata": {},
   "outputs": [],
   "source": [
    "print('Shape of Training Data : ', X_train.shape)\n",
    "print('Shape of Testing Data : ', X_test.shape)\n",
    "print('Churn Rate in Training Data : ', y_train.mean())\n",
    "print('Churn Rate in Testing Data : ', y_test.mean())"
   ]
  },
  {
   "cell_type": "markdown",
   "id": "e9a5133e",
   "metadata": {},
   "source": [
    "### Model Building Step"
   ]
  },
  {
   "cell_type": "code",
   "execution_count": null,
   "id": "0c7b02cc",
   "metadata": {},
   "outputs": [],
   "source": [
    "# Building Logistic Regression model\n",
    "from sklearn.linear_model import LogisticRegression\n",
    "\n",
    "logreg = LogisticRegression(random_state = 99)\n",
    "logreg.fit(X_train, y_train)"
   ]
  },
  {
   "cell_type": "code",
   "execution_count": null,
   "id": "bac6f73d",
   "metadata": {},
   "outputs": [],
   "source": [
    "coeff_df=pd.DataFrame(X_all.columns)\n",
    "coeff_df.columns=['features']\n",
    "coeff_df[\"Coefficient Estimate\"] = pd.Series(logreg.coef_[0])\n",
    "coeff_df"
   ]
  },
  {
   "cell_type": "code",
   "execution_count": null,
   "id": "ad003d2b",
   "metadata": {},
   "outputs": [],
   "source": [
    "# Building a Decision Tree Model\n",
    "from sklearn.tree import DecisionTreeClassifier\n",
    "\n",
    "dtree = DecisionTreeClassifier(criterion = 'gini', random_state = 99)"
   ]
  },
  {
   "cell_type": "code",
   "execution_count": null,
   "id": "d7028184",
   "metadata": {},
   "outputs": [],
   "source": [
    "# Using GridSearchCV to find the best parameters\n",
    "\n",
    "np.random.seed(44)\n",
    "from sklearn.model_selection import GridSearchCV\n",
    "param_dist = {'max_depth': [3, 5, 6, 7], 'min_samples_split': [50, 100, 150, 200,250]}\n",
    "tree_grid = GridSearchCV(dtree, cv = 10, param_grid = param_dist, n_jobs = -1)\n",
    "tree_grid.fit(X_train, y_train)\n",
    "print('Best parameters using grid search: \\n', tree_grid.best_params_)"
   ]
  },
  {
   "cell_type": "code",
   "execution_count": null,
   "id": "61aa7c82",
   "metadata": {},
   "outputs": [],
   "source": [
    "dtree = DecisionTreeClassifier(criterion = 'gini', random_state = 99, max_depth = 5, min_samples_split = 50)\n",
    "dtree.fit(X_train, y_train)"
   ]
  },
  {
   "cell_type": "code",
   "execution_count": null,
   "id": "bb2348c4",
   "metadata": {},
   "outputs": [],
   "source": [
    "!pip install pydotplus"
   ]
  },
  {
   "cell_type": "code",
   "execution_count": null,
   "id": "5c869106",
   "metadata": {},
   "outputs": [],
   "source": [
    "from sklearn import tree\n",
    "import pydotplus\n",
    "\n",
    "plt.figure(figsize = [50, 10])\n",
    "tree.plot_tree(dtree, filled = True, fontsize = 15, rounded = True, feature_names = X_all.columns)\n",
    "plt.show()"
   ]
  },
  {
   "cell_type": "code",
   "execution_count": null,
   "id": "e3710ab4",
   "metadata": {},
   "outputs": [],
   "source": [
    "# Building Random Forest Model\n",
    "from sklearn.ensemble import RandomForestClassifier\n",
    "\n",
    "rf = RandomForestClassifier(criterion = 'gini', random_state = 99, max_depth = 5, min_samples_split = 50)\n",
    "rf.fit(X_train, y_train)"
   ]
  },
  {
   "cell_type": "code",
   "execution_count": null,
   "id": "0fae2a1e",
   "metadata": {},
   "outputs": [],
   "source": [
    "# Getting feature importances\n",
    "import pandas as pd\n",
    "feature_importances = pd.DataFrame(rf.feature_importances_,\n",
    "                                  index = X_train.columns,\n",
    "                                  columns = ['importance']).sort_values('importance', ascending = False)\n",
    "feature_importances"
   ]
  },
  {
   "cell_type": "code",
   "execution_count": null,
   "id": "b5345acb",
   "metadata": {},
   "outputs": [],
   "source": [
    "# Building the Gradient Boosting Model\n",
    "from sklearn.ensemble import GradientBoostingClassifier\n",
    "\n",
    "gbm = GradientBoostingClassifier(criterion = 'mse', random_state = 99, max_depth = 5, min_samples_split = 50)\n",
    "gbm.fit(X_train, y_train)"
   ]
  },
  {
   "cell_type": "code",
   "execution_count": null,
   "id": "012001e0",
   "metadata": {},
   "outputs": [],
   "source": [
    "feature_importances = pd.DataFrame(gbm.feature_importances_,\n",
    "                                  index = X_train.columns,\n",
    "                                  columns = ['importance']).sort_values('importance', ascending = False)\n",
    "feature_importances"
   ]
  },
  {
   "cell_type": "code",
   "execution_count": null,
   "id": "5c222316",
   "metadata": {},
   "outputs": [],
   "source": [
    "# Building StackingClassifier\n",
    "base_learners = [\n",
    "        ('rf', RandomForestClassifier(criterion='gini',random_state=99, max_depth=5,min_samples_split=50)),\n",
    "        ('gbm', GradientBoostingClassifier(criterion='mse',random_state=99,max_depth=5,min_samples_split=50))\n",
    "        ]"
   ]
  },
  {
   "cell_type": "code",
   "execution_count": null,
   "id": "3d9ccbb2",
   "metadata": {},
   "outputs": [],
   "source": [
    "from sklearn.ensemble import StackingClassifier\n",
    "\n",
    "clf = StackingClassifier(estimators = base_learners, final_estimator = LogisticRegression())"
   ]
  },
  {
   "cell_type": "code",
   "execution_count": null,
   "id": "598efd70",
   "metadata": {},
   "outputs": [],
   "source": [
    "clf.fit(X_train, y_train)"
   ]
  },
  {
   "cell_type": "markdown",
   "id": "e5f7c574",
   "metadata": {},
   "source": [
    "### Model Evaluation"
   ]
  },
  {
   "cell_type": "code",
   "execution_count": null,
   "id": "a2e22540",
   "metadata": {},
   "outputs": [],
   "source": [
    "\n",
    "# For Logistic regression\n",
    "y_pred_logreg = logreg.predict(X_test)\n",
    "\n",
    "# For Decison tree\n",
    "y_pred_tree = dtree.predict(X_test)\n",
    "\n",
    "# For Random forest\n",
    "y_pred_rf = rf.predict(X_test)\n",
    "\n",
    "# For Gradient boosting\n",
    "y_pred_gbm = gbm.predict(X_test)\n",
    "\n",
    "# For Stacking Classifier\n",
    "y_pred_clf = clf.predict(X_test)"
   ]
  },
  {
   "cell_type": "code",
   "execution_count": null,
   "id": "a16d3d27",
   "metadata": {},
   "outputs": [],
   "source": [
    "from sklearn import metrics\n",
    "from sklearn.metrics import confusion_matrix"
   ]
  },
  {
   "cell_type": "code",
   "execution_count": null,
   "id": "5aad6c96",
   "metadata": {},
   "outputs": [],
   "source": [
    "# For Logistic Regression Model\n",
    "\n",
    "print('Accuracy : ',metrics.accuracy_score(y_test, y_pred_logreg))\n",
    "print('Precision : ',metrics.precision_score(y_test, y_pred_logreg))\n",
    "print('Recall : ',metrics.recall_score(y_test, y_pred_logreg))\n",
    "print('f1_score : ',metrics.f1_score(y_test, y_pred_logreg))"
   ]
  },
  {
   "cell_type": "code",
   "execution_count": null,
   "id": "049a6259",
   "metadata": {},
   "outputs": [],
   "source": [
    "# Plotting Confusion matrix\n",
    "metrics.plot_confusion_matrix(logreg, X_test, y_test)"
   ]
  },
  {
   "cell_type": "code",
   "execution_count": null,
   "id": "0bf01723",
   "metadata": {},
   "outputs": [],
   "source": [
    "# For Decision Tree\n",
    "\n",
    "print('Accuracy : ',metrics.accuracy_score(y_test, y_pred_tree))\n",
    "print('Precision : ',metrics.precision_score(y_test, y_pred_tree))\n",
    "print('Recall : ',metrics.recall_score(y_test, y_pred_tree))\n",
    "print('f1_score : ',metrics.f1_score(y_test, y_pred_tree))"
   ]
  },
  {
   "cell_type": "code",
   "execution_count": null,
   "id": "279dd903",
   "metadata": {},
   "outputs": [],
   "source": [
    "# Plotting Confusion matrix\n",
    "metrics.plot_confusion_matrix(dtree, X_test, y_test)"
   ]
  },
  {
   "cell_type": "code",
   "execution_count": null,
   "id": "7886afc0",
   "metadata": {},
   "outputs": [],
   "source": [
    "# For Random Forest model\n",
    "\n",
    "print('Accuracy : ',metrics.accuracy_score(y_test, y_pred_rf))\n",
    "print('Precision : ',metrics.precision_score(y_test, y_pred_rf))\n",
    "print('Recall : ',metrics.recall_score(y_test, y_pred_rf))\n",
    "print('f1_score : ',metrics.f1_score(y_test, y_pred_rf))"
   ]
  },
  {
   "cell_type": "code",
   "execution_count": null,
   "id": "ec374c92",
   "metadata": {},
   "outputs": [],
   "source": [
    "# Plotting Confusion matrix\n",
    "metrics.plot_confusion_matrix(rf, X_test, y_test)"
   ]
  },
  {
   "cell_type": "code",
   "execution_count": null,
   "id": "8e050acd",
   "metadata": {},
   "outputs": [],
   "source": [
    "# For Gradient Boosting Model\n",
    "\n",
    "print('Accuracy : ',metrics.accuracy_score(y_test, y_pred_gbm))\n",
    "print('Precision ; ',metrics.precision_score(y_test, y_pred_gbm))\n",
    "print('Recall : ',metrics.recall_score(y_test, y_pred_gbm))\n",
    "print('f1_score : ',metrics.f1_score(y_test, y_pred_gbm))\n"
   ]
  },
  {
   "cell_type": "code",
   "execution_count": null,
   "id": "ff9362b5",
   "metadata": {},
   "outputs": [],
   "source": [
    "# plotting Confusion matrix\n",
    "metrics.plot_confusion_matrix(gbm, X_test, y_test)"
   ]
  },
  {
   "cell_type": "code",
   "execution_count": null,
   "id": "d939123e",
   "metadata": {},
   "outputs": [],
   "source": [
    "# For StackingClassifier\n",
    "\n",
    "print('Accuracy : ',metrics.accuracy_score(y_test, y_pred_clf))\n",
    "print('Precision : ',metrics.precision_score(y_test, y_pred_clf))\n",
    "print('Recall : ',metrics.recall_score(y_test, y_pred_clf))\n",
    "print('f1_score : ',metrics.f1_score(y_test, y_pred_clf))"
   ]
  },
  {
   "cell_type": "code",
   "execution_count": null,
   "id": "5efec079",
   "metadata": {},
   "outputs": [],
   "source": [
    "# Plotting Confusion matrix\n",
    "metrics.plot_confusion_matrix(clf, X_test, y_test)"
   ]
  },
  {
   "cell_type": "markdown",
   "id": "6328be60",
   "metadata": {},
   "source": [
    "### Lorenze Curve"
   ]
  },
  {
   "cell_type": "code",
   "execution_count": null,
   "id": "6102e6fa",
   "metadata": {},
   "outputs": [],
   "source": [
    "# Logistic Regression Lorenze Curve\n",
    "\n",
    "y_pred_prob = logreg.predict_proba(X_all)[:, 1]\n",
    "df['pred_prob_logreg'] = pd.DataFrame(y_pred_prob)\n",
    "df['P_Rank_logreg'] = pd.qcut(df['pred_prob_logreg'].rank(method='first').values, 10, duplicates='drop').codes+1\n",
    "rank_df_actuals = df.groupby('P_Rank_logreg')['target'].agg(['count', 'mean'])\n",
    "rank_df_actuals.rename(columns = {'mean': 'Actual_event_rate'}, inplace = True)\n",
    "rank_df_actuals\n"
   ]
  },
  {
   "cell_type": "code",
   "execution_count": null,
   "id": "85559733",
   "metadata": {},
   "outputs": [],
   "source": [
    "# Sorting the rank_df_actuals in descending order\n",
    "sorted_rank_df = rank_df_actuals.sort_values(by = 'P_Rank_logreg', ascending = False)\n",
    "sorted_rank_df"
   ]
  },
  {
   "cell_type": "code",
   "execution_count": null,
   "id": "3c848cce",
   "metadata": {},
   "outputs": [],
   "source": [
    "# After sorting the data we find number of people who actually churned\n",
    "sorted_rank_df['N_events'] = sorted_rank_df['count'] * sorted_rank_df['Actual_event_rate']\n",
    "sorted_rank_df"
   ]
  },
  {
   "cell_type": "code",
   "execution_count": null,
   "id": "b364b6c1",
   "metadata": {},
   "outputs": [],
   "source": [
    "# finding the cummulative event\n",
    "sorted_rank_df['cum_events'] = sorted_rank_df['N_events'].cumsum()\n",
    "sorted_rank_df"
   ]
  },
  {
   "cell_type": "code",
   "execution_count": null,
   "id": "11facf01",
   "metadata": {},
   "outputs": [],
   "source": [
    "# finding the event capture\n",
    "sorted_rank_df['event_cap'] = sorted_rank_df['N_events']/max(sorted_rank_df['N_events'].cumsum())\n",
    "sorted_rank_df"
   ]
  },
  {
   "cell_type": "code",
   "execution_count": null,
   "id": "96d7a040",
   "metadata": {},
   "outputs": [],
   "source": [
    "# Finding cummulative event capture\n",
    "sorted_rank_df['cum_event_cap'] = sorted_rank_df['event_cap'].cumsum()\n",
    "sorted_rank_df"
   ]
  },
  {
   "cell_type": "code",
   "execution_count": null,
   "id": "234b1a42",
   "metadata": {},
   "outputs": [],
   "source": [
    "# Finding data for non events\n",
    "\n",
    "sorted_rank_df['N_non_events'] = sorted_rank_df['count'] - sorted_rank_df['N_events']\n",
    "sorted_rank_df"
   ]
  },
  {
   "cell_type": "code",
   "execution_count": null,
   "id": "aed33db2",
   "metadata": {},
   "outputs": [],
   "source": [
    "# Cummulative non event\n",
    "sorted_rank_df['cum_non_events'] = sorted_rank_df['N_non_events'].cumsum()\n",
    "sorted_rank_df"
   ]
  },
  {
   "cell_type": "code",
   "execution_count": null,
   "id": "da4086ff",
   "metadata": {},
   "outputs": [],
   "source": [
    "# Finding non event capture rate\n",
    "sorted_rank_df['non_event_cap'] = sorted_rank_df['N_non_events']/max(sorted_rank_df['N_non_events'].cumsum())\n",
    "sorted_rank_df\n"
   ]
  },
  {
   "cell_type": "code",
   "execution_count": null,
   "id": "1fe61e89",
   "metadata": {},
   "outputs": [],
   "source": [
    "# finding cummulative non event capture rate\n",
    "sorted_rank_df['cum_non_event_cap'] = sorted_rank_df['non_event_cap'].cumsum()\n",
    "sorted_rank_df"
   ]
  },
  {
   "cell_type": "code",
   "execution_count": null,
   "id": "47cef7e0",
   "metadata": {},
   "outputs": [],
   "source": [
    "# Using KS-The KS test report the maximum difference between the two cumulative distributions, \n",
    "# and calculates a P value from that and the sample sizes.\n",
    "\n",
    "sorted_rank_df['KS'] = round((sorted_rank_df['cum_event_cap'] - sorted_rank_df['cum_non_event_cap']), 4)\n",
    "sorted_rank_df\n",
    "\n",
    "# resetting the index\n",
    "sorted_reindexed = sorted_rank_df.reset_index()\n",
    "sorted_reindexed['Decile'] = sorted_reindexed.index+1\n",
    "sorted_reindexed\n"
   ]
  },
  {
   "cell_type": "code",
   "execution_count": null,
   "id": "4fc12c3b",
   "metadata": {},
   "outputs": [],
   "source": [
    "# plotting a graph\n",
    "ax = sns.lineplot(x = 'Decile', y = 'cum_event_cap', data = sorted_reindexed, color = 'grey')\n",
    "ax = sns.lineplot(x = 'Decile', y = 'cum_non_event_cap', data = sorted_reindexed, color = 'red')\n"
   ]
  },
  {
   "cell_type": "code",
   "execution_count": null,
   "id": "3806f650",
   "metadata": {},
   "outputs": [],
   "source": [
    "ax = sns.barplot(x = 'Decile', y = 'KS', data = sorted_reindexed, color = 'blue')\n",
    "# at Decile 4 the KS value is maximum"
   ]
  },
  {
   "cell_type": "code",
   "execution_count": null,
   "id": "aedad517",
   "metadata": {},
   "outputs": [],
   "source": [
    "# Project conclusion:\n",
    "# The Logistic regression model has perfromed the best and will be used for targeting customer \n",
    "# with retension offers in Telecom"
   ]
  },
  {
   "cell_type": "code",
   "execution_count": null,
   "id": "da930b01",
   "metadata": {},
   "outputs": [],
   "source": [
    "# Creating rank on the feature tenure\n",
    "df['Tenure_Rank'] = pd.qcut(df['tenure'].rank(method = 'first').values , 10, duplicates = 'drop').codes+1"
   ]
  },
  {
   "cell_type": "code",
   "execution_count": null,
   "id": "ed3a3823",
   "metadata": {},
   "outputs": [],
   "source": [
    "df.groupby('Tenure_Rank')['tenure'].agg(['min', 'max', 'mean'])"
   ]
  },
  {
   "cell_type": "code",
   "execution_count": null,
   "id": "19a55ab5",
   "metadata": {},
   "outputs": [],
   "source": [
    "df['tenure'].mean()"
   ]
  },
  {
   "cell_type": "code",
   "execution_count": null,
   "id": "694a6a88",
   "metadata": {},
   "outputs": [],
   "source": [
    "# Mean of tenure is 32. In the above Tenure_Rank we separate anything above rank 6 as high tenure and below \n",
    "# as low tenure(this is decided on the value that is closest to the tenure mean)"
   ]
  },
  {
   "cell_type": "code",
   "execution_count": null,
   "id": "d0d11ea3",
   "metadata": {},
   "outputs": [],
   "source": [
    "df['Tenure_Segment'] = np.where(df['Tenure_Rank'] <= 6, 'Low Tenure', 'High Tenure')"
   ]
  },
  {
   "cell_type": "code",
   "execution_count": null,
   "id": "64cc449a",
   "metadata": {},
   "outputs": [],
   "source": [
    "# Creating rank for the MonthlyCharges feature and finding the low charges and high charges customers\n",
    "df['MonthlyCharge_Rank'] = pd.qcut(df['MonthlyCharges'].rank(method='first').values, 10, duplicates = 'drop').codes+1"
   ]
  },
  {
   "cell_type": "code",
   "execution_count": null,
   "id": "27a10307",
   "metadata": {},
   "outputs": [],
   "source": [
    "df.groupby('MonthlyCharge_Rank')['MonthlyCharges'].agg(['min', 'max', 'mean'])"
   ]
  },
  {
   "cell_type": "code",
   "execution_count": null,
   "id": "3b3ddd2a",
   "metadata": {},
   "outputs": [],
   "source": [
    "df['MonthlyCharges'].mean()"
   ]
  },
  {
   "cell_type": "code",
   "execution_count": null,
   "id": "c904bf9a",
   "metadata": {},
   "outputs": [],
   "source": [
    "# Based on the mean(64), any customer below rank 5 can be considered as low charges and above as high charges\n",
    "df['Monthly_Charge_Segment'] = np.where(df['MonthlyCharge_Rank'] <= 5, 'Low Charges', 'High Charges')"
   ]
  },
  {
   "cell_type": "code",
   "execution_count": null,
   "id": "90bfa574",
   "metadata": {},
   "outputs": [],
   "source": [
    "df['Predicted_Churn_Rank'] = np.where(df['P_Rank_logreg'] >= 7, 'Top 4', 'Bottom 6')"
   ]
  },
  {
   "cell_type": "code",
   "execution_count": null,
   "id": "87be21a3",
   "metadata": {},
   "outputs": [],
   "source": [
    "df.head()"
   ]
  },
  {
   "cell_type": "markdown",
   "id": "cb7511af",
   "metadata": {},
   "source": [
    "### Slice the data with respect to 'Top 4' from the Logistic Model Output"
   ]
  },
  {
   "cell_type": "code",
   "execution_count": null,
   "id": "ba27b5b0",
   "metadata": {},
   "outputs": [],
   "source": [
    "df_top4 = df.loc[df['Predicted_Churn_Rank'] == 'Top 4', :]"
   ]
  },
  {
   "cell_type": "code",
   "execution_count": null,
   "id": "7d9179c2",
   "metadata": {},
   "outputs": [],
   "source": [
    "service_list = ['PhoneService', 'MultipleLines', 'InternetService', 'OnlineSecurity', 'OnlineBackup',\n",
    "               'DeviceProtection', 'TechSupport', 'StreamingTV', 'StreamingMovies', 'Contract', 'PaperlessBilling']"
   ]
  },
  {
   "cell_type": "code",
   "execution_count": null,
   "id": "e891a7b1",
   "metadata": {},
   "outputs": [],
   "source": [
    "df_top4_services = df_top4[service_list]"
   ]
  },
  {
   "cell_type": "code",
   "execution_count": null,
   "id": "3599119e",
   "metadata": {},
   "outputs": [],
   "source": [
    "# Finding the services used most by the customers in the top 4 list\n",
    "for col in (df_top4_services.columns):\n",
    "    plt.figure()\n",
    "    sns.countplot(x = col, data = df_top4_services)\n",
    "plt.show()    "
   ]
  },
  {
   "cell_type": "code",
   "execution_count": null,
   "id": "5f01aeba",
   "metadata": {},
   "outputs": [],
   "source": [
    "# Top 4 are the customers most likely to churn (concluded from Logistic Regression Model).So whatever \n",
    "# services they are using the most are the problematic services."
   ]
  },
  {
   "cell_type": "code",
   "execution_count": null,
   "id": "29639334",
   "metadata": {},
   "outputs": [],
   "source": [
    "pd.crosstab(index = df_top4['Monthly_Charge_Segment'], columns = df_top4['Tenure_Segment'],\n",
    "            values = df_top4['MonthlyCharges'], aggfunc = 'mean')"
   ]
  },
  {
   "cell_type": "code",
   "execution_count": null,
   "id": "c639c0e9",
   "metadata": {},
   "outputs": [],
   "source": [
    "pd.crosstab(index = df_top4['Monthly_Charge_Segment'], columns = df_top4['Tenure_Segment'],\n",
    "           values = df_top4['target'], aggfunc = 'count')"
   ]
  },
  {
   "cell_type": "code",
   "execution_count": null,
   "id": "d661d774",
   "metadata": {},
   "outputs": [],
   "source": [
    "### Recommendations###\n",
    "\n",
    "# The insights coming from the model is as such:\n",
    "# Device Protection with Online services should be offered\n",
    "# Convert customer to DSL if they are facing challenges with Fibre Optics\n",
    "# Offer discounts on yearly contracts"
   ]
  },
  {
   "cell_type": "code",
   "execution_count": null,
   "id": "cab41c37",
   "metadata": {},
   "outputs": [],
   "source": []
  },
  {
   "cell_type": "code",
   "execution_count": null,
   "id": "2e335d88",
   "metadata": {},
   "outputs": [],
   "source": []
  }
 ],
 "metadata": {
  "kernelspec": {
   "display_name": "Python 3 (ipykernel)",
   "language": "python",
   "name": "python3"
  },
  "language_info": {
   "codemirror_mode": {
    "name": "ipython",
    "version": 3
   },
   "file_extension": ".py",
   "mimetype": "text/x-python",
   "name": "python",
   "nbconvert_exporter": "python",
   "pygments_lexer": "ipython3",
   "version": "3.8.12"
  }
 },
 "nbformat": 4,
 "nbformat_minor": 5
}
